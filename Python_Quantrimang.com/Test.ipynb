{
 "cells": [
  {
   "cell_type": "markdown",
   "id": "b345569b",
   "metadata": {},
   "source": [
    "# TEST\n",
    "\n",
    "*in nghien*\n",
    "\n",
    "**in đậm**\n",
    "\n",
    "___in đậm và nghiêng___\n",
    "\n",
    "---\n",
    "___\n",
    "\n",
    "***"
   ]
  }
 ],
 "metadata": {
  "kernelspec": {
   "display_name": "Python 3",
   "language": "python",
   "name": "python3"
  },
  "language_info": {
   "codemirror_mode": {
    "name": "ipython",
    "version": 3
   },
   "file_extension": ".py",
   "mimetype": "text/x-python",
   "name": "python",
   "nbconvert_exporter": "python",
   "pygments_lexer": "ipython3",
   "version": "3.8.8"
  }
 },
 "nbformat": 4,
 "nbformat_minor": 5
}
